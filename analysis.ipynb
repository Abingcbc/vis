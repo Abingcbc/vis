{
 "cells": [
  {
   "cell_type": "code",
   "execution_count": 3,
   "metadata": {},
   "outputs": [],
   "source": [
    "import numpy as np\n",
    "import pandas as pd\n",
    "import matplotlib.pyplot as plt"
   ]
  },
  {
   "cell_type": "code",
   "execution_count": 4,
   "metadata": {},
   "outputs": [],
   "source": [
    "df = pd.read_csv('2-olympic-medals.csv')"
   ]
  },
  {
   "cell_type": "code",
   "execution_count": 5,
   "metadata": {},
   "outputs": [
    {
     "data": {
      "text/plain": [
       "11"
      ]
     },
     "execution_count": 5,
     "metadata": {},
     "output_type": "execute_result"
    }
   ],
   "source": [
    "len(df[df['Year'] == 1896])"
   ]
  },
  {
   "cell_type": "code",
   "execution_count": 6,
   "metadata": {},
   "outputs": [
    {
     "data": {
      "text/plain": [
       "13747"
      ]
     },
     "execution_count": 6,
     "metadata": {},
     "output_type": "execute_result"
    }
   ],
   "source": [
    "df['Gold'].sum() + df['Silver'].sum() + df['Bronze'].sum()"
   ]
  },
  {
   "cell_type": "code",
   "execution_count": 7,
   "metadata": {},
   "outputs": [],
   "source": [
    "df2 = pd.read_csv('olympic-medals.csv')"
   ]
  },
  {
   "cell_type": "code",
   "execution_count": 8,
   "metadata": {},
   "outputs": [
    {
     "data": {
      "text/plain": [
       "3729"
      ]
     },
     "execution_count": 8,
     "metadata": {},
     "output_type": "execute_result"
    }
   ],
   "source": [
    "df2['Gold'].sum()"
   ]
  },
  {
   "cell_type": "code",
   "execution_count": 9,
   "metadata": {},
   "outputs": [
    {
     "data": {
      "text/plain": [
       "[{'year': '1896', 'value': 11},\n",
       " {'year': '1900', 'value': 21},\n",
       " {'year': '1904', 'value': 10},\n",
       " {'year': '1908', 'value': 19},\n",
       " {'year': '1912', 'value': 18},\n",
       " {'year': '1920', 'value': 22},\n",
       " {'year': '1924', 'value': 27},\n",
       " {'year': '1928', 'value': 33},\n",
       " {'year': '1932', 'value': 27},\n",
       " {'year': '1936', 'value': 32},\n",
       " {'year': '1948', 'value': 37},\n",
       " {'year': '1952', 'value': 43},\n",
       " {'year': '1956', 'value': 38},\n",
       " {'year': '1960', 'value': 44},\n",
       " {'year': '1964', 'value': 41},\n",
       " {'year': '1968', 'value': 44},\n",
       " {'year': '1972', 'value': 48},\n",
       " {'year': '1976', 'value': 41},\n",
       " {'year': '1980', 'value': 36},\n",
       " {'year': '1984', 'value': 47},\n",
       " {'year': '1988', 'value': 52},\n",
       " {'year': '1992', 'value': 64},\n",
       " {'year': '1996', 'value': 79},\n",
       " {'year': '2000', 'value': 80},\n",
       " {'year': '2004', 'value': 74},\n",
       " {'year': '2008', 'value': 87}]"
      ]
     },
     "execution_count": 9,
     "metadata": {},
     "output_type": "execute_result"
    }
   ],
   "source": [
    "s3 = []\n",
    "for value in df['Year'].unique():\n",
    "    s3.append({'year': str(value), 'value': len(df[df['Year'] == value]['Country'].unique())})\n",
    "s3"
   ]
  },
  {
   "cell_type": "code",
   "execution_count": 11,
   "metadata": {},
   "outputs": [
    {
     "data": {
      "text/plain": [
       "[{'year': 1896, 'value': 43, 'avg': 3.909090909090909},\n",
       " {'year': 1900, 'value': 90, 'avg': 4.285714285714286},\n",
       " {'year': 1904, 'value': 96, 'avg': 9.6},\n",
       " {'year': 1908, 'value': 110, 'avg': 5.7894736842105265},\n",
       " {'year': 1912, 'value': 103, 'avg': 5.722222222222222},\n",
       " {'year': 1920, 'value': 156, 'avg': 7.090909090909091},\n",
       " {'year': 1924, 'value': 126, 'avg': 4.666666666666667},\n",
       " {'year': 1928, 'value': 110, 'avg': 3.3333333333333335},\n",
       " {'year': 1932, 'value': 116, 'avg': 4.296296296296297},\n",
       " {'year': 1936, 'value': 130, 'avg': 4.0625},\n",
       " {'year': 1948, 'value': 138, 'avg': 3.72972972972973},\n",
       " {'year': 1952, 'value': 149, 'avg': 3.4651162790697674},\n",
       " {'year': 1956, 'value': 153, 'avg': 4.026315789473684},\n",
       " {'year': 1960, 'value': 152, 'avg': 3.4545454545454546},\n",
       " {'year': 1964, 'value': 163, 'avg': 3.975609756097561},\n",
       " {'year': 1968, 'value': 174, 'avg': 3.9545454545454546},\n",
       " {'year': 1972, 'value': 195, 'avg': 4.0625},\n",
       " {'year': 1976, 'value': 198, 'avg': 4.829268292682927},\n",
       " {'year': 1980, 'value': 204, 'avg': 5.666666666666667},\n",
       " {'year': 1984, 'value': 226, 'avg': 4.808510638297872},\n",
       " {'year': 1988, 'value': 241, 'avg': 4.634615384615385},\n",
       " {'year': 1992, 'value': 260, 'avg': 4.0625},\n",
       " {'year': 1996, 'value': 271, 'avg': 3.430379746835443},\n",
       " {'year': 2000, 'value': 297, 'avg': 3.7125},\n",
       " {'year': 2004, 'value': 301, 'avg': 4.0675675675675675},\n",
       " {'year': 2008, 'value': 302, 'avg': 3.471264367816092}]"
      ]
     },
     "execution_count": 11,
     "metadata": {},
     "output_type": "execute_result"
    }
   ],
   "source": [
    "s4_gold = []\n",
    "for value in df['Year'].unique():\n",
    "    s4_gold.append({'year': value, 'value': df[df['Year'] == value]['Gold'].sum(), 'avg': df[df['Year'] == value]['Gold'].mean()})\n",
    "s4_gold"
   ]
  },
  {
   "cell_type": "code",
   "execution_count": 16,
   "metadata": {},
   "outputs": [
    {
     "data": {
      "text/plain": [
       "[{'year': 1896, 'usa': 11, 'china': 0},\n",
       " {'year': 1900, 'usa': 19, 'china': 0},\n",
       " {'year': 1904, 'usa': 78, 'china': 0},\n",
       " {'year': 1908, 'usa': 23, 'china': 0},\n",
       " {'year': 1912, 'usa': 25, 'china': 0},\n",
       " {'year': 1920, 'usa': 41, 'china': 0},\n",
       " {'year': 1924, 'usa': 45, 'china': 0},\n",
       " {'year': 1928, 'usa': 22, 'china': 0},\n",
       " {'year': 1932, 'usa': 41, 'china': 0},\n",
       " {'year': 1936, 'usa': 24, 'china': 0},\n",
       " {'year': 1948, 'usa': 38, 'china': 0},\n",
       " {'year': 1952, 'usa': 40, 'china': 0},\n",
       " {'year': 1956, 'usa': 32, 'china': 0},\n",
       " {'year': 1960, 'usa': 34, 'china': 0},\n",
       " {'year': 1964, 'usa': 36, 'china': 0},\n",
       " {'year': 1968, 'usa': 45, 'china': 0},\n",
       " {'year': 1972, 'usa': 33, 'china': 0},\n",
       " {'year': 1976, 'usa': 34, 'china': 0},\n",
       " {'year': 1980, 'usa': 0, 'china': 0},\n",
       " {'year': 1984, 'usa': 83, 'china': 15},\n",
       " {'year': 1988, 'usa': 36, 'china': 5},\n",
       " {'year': 1992, 'usa': 37, 'china': 16},\n",
       " {'year': 1996, 'usa': 44, 'china': 16},\n",
       " {'year': 2000, 'usa': 36, 'china': 28},\n",
       " {'year': 2004, 'usa': 36, 'china': 32},\n",
       " {'year': 2008, 'usa': 36, 'china': 51}]"
      ]
     },
     "execution_count": 16,
     "metadata": {},
     "output_type": "execute_result"
    }
   ],
   "source": [
    "s5 = []\n",
    "for value in df['Year'].unique():\n",
    "    tmp = {\n",
    "        'year': value\n",
    "    }\n",
    "    if 'United States' in df[df['Year'] == value]['Country'].values:\n",
    "        tmp['usa'] = df[(df['Year'] == value) & (df['Country'] == 'United States')].iloc[0]['Gold']\n",
    "    else:\n",
    "        tmp['usa'] = 0\n",
    "    if 'China' in df[df['Year'] == value]['Country'].values:\n",
    "        tmp['china'] = df[(df['Year'] == value) & (df['Country'] == 'China')].iloc[0]['Gold']\n",
    "    else:\n",
    "        tmp['china'] = 0\n",
    "    s5.append(tmp)\n",
    "s5"
   ]
  },
  {
   "cell_type": "code",
   "execution_count": 17,
   "metadata": {},
   "outputs": [],
   "source": [
    "from sklearn.linear_model import LinearRegression"
   ]
  },
  {
   "cell_type": "code",
   "execution_count": 76,
   "metadata": {},
   "outputs": [
    {
     "data": {
      "text/plain": [
       "[{'gdp': 12453900758, 'count': 2},\n",
       " {'gdp': 14404394735, 'count': 2},\n",
       " {'gdp': 22742570189, 'count': 3},\n",
       " {'gdp': 36707315242, 'count': 5},\n",
       " {'gdp': 53401919698, 'count': 3},\n",
       " {'gdp': 80542593906, 'count': 2},\n",
       " {'gdp': 125952724890, 'count': 9},\n",
       " {'gdp': 231693378455, 'count': 37},\n",
       " {'gdp': 355269385284, 'count': 67},\n",
       " {'gdp': 487386010973, 'count': 58},\n",
       " {'gdp': 655101259481, 'count': 56},\n",
       " {'gdp': 781601867339, 'count': 54},\n",
       " {'gdp': 957347843581, 'count': 60},\n",
       " {'gdp': 1140973809045, 'count': 67}]"
      ]
     },
     "execution_count": 76,
     "metadata": {},
     "output_type": "execute_result"
    }
   ],
   "source": [
    "x = df2[df2['Country'] == 'South Korea']['GDP'].values\n",
    "y = df2[df2['Country'] == 'South Korea']['Weighted Count'].values\n",
    "\n",
    "reg = LinearRegression()\n",
    "reg.fit(np.array(x).reshape((-1, 1)), np.array(y).reshape((-1, 1)))\n",
    "\n",
    "[{\"gdp\": i, \"count\": j} for i, j in zip(x, y)]"
   ]
  },
  {
   "cell_type": "code",
   "execution_count": 78,
   "metadata": {},
   "outputs": [
    {
     "name": "stdout",
     "output_type": "stream",
     "text": [
      "6.400018804254432e-11 7.703000987961232\n",
      "8.538453091161944 71.76551299250308\n"
     ]
    }
   ],
   "source": [
    "a = reg.coef_[0][0]\n",
    "b = reg.intercept_[0]\n",
    "print(a, b)\n",
    "print(13053900758 * a + b, 1000973809045 * a + b)"
   ]
  },
  {
   "cell_type": "code",
   "execution_count": 68,
   "metadata": {},
   "outputs": [
    {
     "data": {
      "image/png": "[encoded data removed]",
      "text/plain": [
       "<Figure size 432x288 with 1 Axes>"
      ]
     },
     "metadata": {
      "needs_background": "light"
     },
     "output_type": "display_data"
    }
   ],
   "source": [
    "plt.plot([0, 1000000000000], [b, 1000000000000 * a + b], c='r')\n",
    "# plt.plot([0, 3], [b, 3 * a + b], c='r')\n",
    "plt.scatter(x, y, c='black')\n",
    "plt.show()"
   ]
  },
  {
   "cell_type": "code",
   "execution_count": 85,
   "metadata": {},
   "outputs": [
    {
     "data": {
      "text/plain": [
       "{'Jamaica': 16,\n",
       " 'Bahamas': -1,\n",
       " 'Iceland': 2,\n",
       " 'Slovenia': 4,\n",
       " 'Norway': 5,\n",
       " 'Australia': -10,\n",
       " 'Mongolia': 9,\n",
       " 'New Zealand': 3,\n",
       " 'Estonia': 1,\n",
       " 'Cuba': -13,\n",
       " 'Belarus': 7,\n",
       " 'Trinidad and Tobago': 3,\n",
       " 'Bahrain': 3,\n",
       " 'Georgia': 2,\n",
       " 'Latvia': -2,\n",
       " 'Slovakia': 2,\n",
       " 'Denmark': 1,\n",
       " 'Netherlands': -4,\n",
       " 'Hungary': -18,\n",
       " 'Lithuania': 0,\n",
       " 'Armenia': 6,\n",
       " 'Britain': 41,\n",
       " 'Croatia': -2,\n",
       " 'Czech Republic': 2,\n",
       " 'South Korea': 7,\n",
       " 'Kazakhstan': 7,\n",
       " 'Switzerland': 2,\n",
       " 'Finland': 3,\n",
       " 'Azerbaijan': 4,\n",
       " 'France': 6,\n",
       " 'Bulgaria': -9,\n",
       " 'Germany': -8,\n",
       " 'Ukraine': 0,\n",
       " 'Canada': 9,\n",
       " 'Sweden': -8,\n",
       " 'Russia': -34,\n",
       " 'Ireland': 4,\n",
       " 'Italy': -9,\n",
       " 'Panama': 3,\n",
       " 'Spain': 2,\n",
       " 'Romania': -23,\n",
       " 'Mauritius': 1,\n",
       " 'Kenya': 16,\n",
       " 'Zimbabwe': 3,\n",
       " 'United States': 7,\n",
       " 'Kyrgyzstan': 3,\n",
       " 'Poland': 4,\n",
       " 'Greece': -28,\n",
       " 'Dominican Republic': 2,\n",
       " 'Austria': -11,\n",
       " 'Belgium': 0,\n",
       " 'Portugal': 0,\n",
       " 'North Korea': 2,\n",
       " 'Tajikistan': 3,\n",
       " 'Singapore': 2,\n",
       " 'Serbia': 4,\n",
       " 'Japan': -29,\n",
       " 'Uzbekistan': 0,\n",
       " 'Tunisia': 3,\n",
       " 'Moldova': 1,\n",
       " 'Argentina': 0,\n",
       " 'Ethiopia': 2,\n",
       " 'Turkey': -5,\n",
       " 'Taiwan': -7,\n",
       " 'Togo': 1,\n",
       " 'China': 79,\n",
       " 'Cameroon': 0,\n",
       " 'Thailand': -5,\n",
       " 'Ecuador': 2,\n",
       " 'Israel': -3,\n",
       " 'Brazil': 3,\n",
       " 'Chile': -5,\n",
       " 'Morocco': -5,\n",
       " 'Algeria': 3,\n",
       " 'Malaysia': 2,\n",
       " 'Colombia': 1,\n",
       " 'Mexico': 0,\n",
       " 'Iran': -8,\n",
       " 'Sudan': 2,\n",
       " 'South Africa': -9,\n",
       " 'Venezuela': -1,\n",
       " 'Indonesia': 1,\n",
       " 'Afghanistan': 1,\n",
       " 'Nigeria': 3,\n",
       " 'Vietnam': 2,\n",
       " 'Egypt': -7,\n",
       " 'India': 3}"
      ]
     },
     "execution_count": 85,
     "metadata": {},
     "output_type": "execute_result"
    }
   ],
   "source": [
    "s7 = {}\n",
    "for value in df[df['Year'] == 2008]['Country']:\n",
    "    if value in df[df['Year'] == 2004]['Country'].values:\n",
    "        s7[value] = df[(df['Year'] == 2008) & (df['Country'] == value)].iloc[0]['Weighted Count'] - df[(df['Year'] == 2004) & (df['Country'] == value)].iloc[0]['Weighted Count']\n",
    "    else:\n",
    "        s7[value] = df[(df['Year'] == 2008) & (df['Country'] == value)].iloc[0]['Weighted Count']\n",
    "s7"
   ]
  }
 ],
 "metadata": {
  "interpreter": {
   "hash": "84f3c6fe35b356dfddf2461e94a88c00db751b6ff10bfb7a3a86d5427a4df698"
  },
  "kernelspec": {
   "display_name": "Python 3.7.10 64-bit ('insight': conda)",
   "language": "python",
   "name": "python3"
  },
  "language_info": {
   "codemirror_mode": {
    "name": "ipython",
    "version": 3
   },
   "file_extension": ".py",
   "mimetype": "text/x-python",
   "name": "python",
   "nbconvert_exporter": "python",
   "pygments_lexer": "ipython3",
   "version": "3.7.10"
  },
  "orig_nbformat": 4
 },
 "nbformat": 4,
 "nbformat_minor": 2
}
